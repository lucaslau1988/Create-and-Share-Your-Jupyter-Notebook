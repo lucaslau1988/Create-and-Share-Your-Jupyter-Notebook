{
    "cells": [
        {
            "cell_type": "markdown",
            "metadata": {
                "collapsed": true
            },
            "source": "# My Jupyter Notebook on IBM Watson Studio"
        },
        {
            "cell_type": "markdown",
            "metadata": {},
            "source": "**Lucas Ladeira Lau**\n\nOperational Leader at GESmed"
        },
        {
            "cell_type": "markdown",
            "metadata": {},
            "source": "*I am interested in data science because I believe it will be very useful in my current occupation. The ability to understand and interpret data will allow me to take new approaches to my team's actions.*"
        },
        {
            "cell_type": "markdown",
            "metadata": {},
            "source": "### My code show the results for this symple math opperation: (12 + 10) x 5 - 10. The result should be 100."
        },
        {
            "cell_type": "code",
            "execution_count": 4,
            "metadata": {},
            "outputs": [
                {
                    "data": {
                        "text/plain": "100"
                    },
                    "execution_count": 4,
                    "metadata": {},
                    "output_type": "execute_result"
                }
            ],
            "source": "(12 + 10) * 5 - 10"
        },
        {
            "cell_type": "markdown",
            "metadata": {},
            "source": "### [Clube Atl\u00e9tico Mineiro](https://atletico.com.br/) is a traditional Brazilian sports association, headquartered in the city of Belo Horizonte, capital of the State of Minas Gerais.\n\n![alt text](https://atletico.com.br/wp-content/uploads/2022/01/atletico.svg \"Escudo\")\n\n* Titles \u2013 Current champion of the Brazilian Super Cup and current three-time champion of Minas Gerais, Galo is one of the most winning clubs in Brazilian football today.\n\n* Foundation \u2013 Founded on March 25, 1908, Galo is the great passion of the people of Minas Gerais and one of the biggest and most traditional clubs in world football. More than nine million fans make up the most passionate and engaged fans in the country.\n\n* Symbols \u2013 Atl\u00e9tico's traditional colors have been black and white since its foundation. Its most popular symbol is the Rooster, official mascot since the late 1930s.\n![alt text](https://upload.wikimedia.org/wikipedia/commons/6/6c/Galovolpi.fw.png \"Galo Volpi\")\n\n* Cidade do Galo \u2013 Owner of the best training and concentration center in South America, Cidade do Galo, Atl\u00e9tico is a reference in structure for professional and youth football.\n\n* Management \u2013 With a serious, modern and transparent management, led by President S\u00e9rgio Coelho, Vice President Jos\u00e9 Murilo Proc\u00f3pio and supporters known as the 4Rs (Rubens Menin, Rafael Menin, Ricardo Guimar\u00e3es and Renato Salvador), Galo has been building a future sustainable and becoming a reference in Latin America.\n\n* Arena MRV, a leap into the future \u2013 The Club enters a new era with the inauguration of its own stadium, Arena MRV, in Belo Horizonte, scheduled for the first half of 2023. With capacity for 46,000 fans, the new home do Galo will be the most modern and technological arena in South America.\n![alt text](https://atletico.com.br/wp-content/uploads/2022/07/Arena_Capa.jpg \"Arena\")\n\n* The Massa \u2013 Rooster's greatest asset and feared by opponents, the Atletica fans are the most fanatical and active in Brazil.\n![alt text](https://camisadoze.net/wp-content/uploads/2017/07/02.jpg \"Massa\")"
        },
        {
            "cell_type": "code",
            "execution_count": null,
            "metadata": {},
            "outputs": [],
            "source": ""
        }
    ],
    "metadata": {
        "kernelspec": {
            "display_name": "Python 3.10",
            "language": "python",
            "name": "python3"
        },
        "language_info": {
            "codemirror_mode": {
                "name": "ipython",
                "version": 3
            },
            "file_extension": ".py",
            "mimetype": "text/x-python",
            "name": "python",
            "nbconvert_exporter": "python",
            "pygments_lexer": "ipython3",
            "version": "3.10.6"
        }
    },
    "nbformat": 4,
    "nbformat_minor": 1
}